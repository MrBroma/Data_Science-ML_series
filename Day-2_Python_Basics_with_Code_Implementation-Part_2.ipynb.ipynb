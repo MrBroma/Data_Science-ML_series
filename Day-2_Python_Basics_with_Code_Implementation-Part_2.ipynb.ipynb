{
 "cells": [
  {
   "cell_type": "markdown",
   "id": "d35adba7",
   "metadata": {},
   "source": [
    "In this post we will cover end to end Python Basics ( Part 2) that you should know.\n",
    "\n",
    "### Python Lists\n",
    "- One of the most versatile data type in Python, Lists are used to store multiple items ( homogeneous or non-homogeneous) in a single variable.\n",
    "- Place the items inside the square brackets[]\n",
    "- Items can be of any data type\n",
    "- Lists are defined as objects with the data type ‘list’\n",
    "- Items are ordered, changeable, and allow duplicate values\n",
    "- list() constructor can be used when creating a new list\n",
    "- To access values in lists, use the square brackets for slicing along with the index to obtain item value available at a particular index\n",
    "- Items inside list are indexed, the first item has index [0], the second item has index [1] etc\n",
    "\n",
    ">Example —\n",
    ">\n",
    ">var = [1, 2 , ‘car’, ‘sunday’ , 3.14]\n",
    ">\n",
    ">empty_list = []\n",
    ">\n",
    ">items = list((“apple”, “banana”, “grapes”))"
   ]
  },
  {
   "cell_type": "code",
   "execution_count": 1,
   "id": "1c617d23",
   "metadata": {},
   "outputs": [
    {
     "name": "stdout",
     "output_type": "stream",
     "text": [
      "['sunday', 'monday', 'tuesday', 'wednesday', 'thursday', 'friday']\n"
     ]
    }
   ],
   "source": [
    "# Create a list\n",
    "\n",
    "list_one = [\"sunday\", \"monday\", \"tuesday\", \"wednesday\", \"thursday\", \"friday\"]\n",
    "print(list_one)"
   ]
  },
  {
   "cell_type": "code",
   "execution_count": 2,
   "id": "109d7152",
   "metadata": {},
   "outputs": [
    {
     "name": "stdout",
     "output_type": "stream",
     "text": [
      "6\n"
     ]
    }
   ],
   "source": [
    "# List length\n",
    "\n",
    "print(len(list_one))"
   ]
  },
  {
   "cell_type": "code",
   "execution_count": 3,
   "id": "bb601f0c",
   "metadata": {},
   "outputs": [
    {
     "name": "stdout",
     "output_type": "stream",
     "text": [
      "['abc', 67, True, 3.14, 'female']\n"
     ]
    }
   ],
   "source": [
    "# List with different data types\n",
    "\n",
    "list_two = ['abc', 67, True, 3.14, \"female\"]\n",
    "print(list_two)"
   ]
  },
  {
   "cell_type": "code",
   "execution_count": 4,
   "id": "6e374c76",
   "metadata": {},
   "outputs": [
    {
     "name": "stdout",
     "output_type": "stream",
     "text": [
      "<class 'list'>\n"
     ]
    }
   ],
   "source": [
    "# Type() with list\n",
    "print(type(list_two))"
   ]
  },
  {
   "cell_type": "code",
   "execution_count": 7,
   "id": "9d6834a2",
   "metadata": {},
   "outputs": [
    {
     "name": "stdout",
     "output_type": "stream",
     "text": [
      "['hello', 'World', 'Beautiful', 'Day']\n"
     ]
    }
   ],
   "source": [
    "# list() constructor to make a list\n",
    "\n",
    "list_cons = list((\"hello\", \"World\", \"Beautiful\", \"Day\"))\n",
    "print(list_cons)"
   ]
  },
  {
   "cell_type": "code",
   "execution_count": 8,
   "id": "3db8dbbb",
   "metadata": {},
   "outputs": [
    {
     "name": "stdout",
     "output_type": "stream",
     "text": [
      "['hello', [8, 4, 6], ['World']]\n"
     ]
    }
   ],
   "source": [
    "# Nested list\n",
    "\n",
    "list_nest = [\"hello\", [8, 4, 6], ['World']]\n",
    "print(list_nest)"
   ]
  },
  {
   "cell_type": "code",
   "execution_count": 9,
   "id": "e126addd",
   "metadata": {},
   "outputs": [
    {
     "name": "stdout",
     "output_type": "stream",
     "text": [
      "['monday', 'tuesday', 'wednesday']\n"
     ]
    }
   ],
   "source": [
    "# slice lists in Python: Use the slicing operator --> : (colon)\n",
    "\n",
    "list_one = [\"sunday\",\"monday\",\"tuesday\",\"wednesday\",\"thursday\"]\n",
    "print(list_one[1:4])"
   ]
  },
  {
   "cell_type": "code",
   "execution_count": 10,
   "id": "f040942d",
   "metadata": {},
   "outputs": [
    {
     "name": "stdout",
     "output_type": "stream",
     "text": [
      "['sunday', 'monday', 'tuesday', 'friday', 'thursday']\n"
     ]
    }
   ],
   "source": [
    "# Add/Change list elements: use the assignement operator = to change an item\n",
    "\n",
    "list_one = [\"sunday\",\"monday\",\"tuesday\",\"wednesday\",\"thursday\"]\n",
    "list_one[3] = \"friday\"\n",
    "print(list_one)"
   ]
  },
  {
   "cell_type": "code",
   "execution_count": 14,
   "id": "0fd6be22",
   "metadata": {},
   "outputs": [
    {
     "name": "stdout",
     "output_type": "stream",
     "text": [
      "['sunday', 'monday', 'tuesday', 'wednesday', 'thursday', 'friday']\n",
      "['sunday', 'monday', 'tuesday', 'wednesday', 'thursday', 'friday', 'saturday']\n"
     ]
    }
   ],
   "source": [
    "# Appending and Extending lists in Python : Use the append() or extend() method\n",
    "\n",
    "list_one = [\"sunday\",\"monday\",\"tuesday\",\"wednesday\",\"thursday\"]\n",
    "list_one.append('friday')\n",
    "print(list_one)\n",
    "\n",
    "# extend\n",
    "\n",
    "list_one.extend(['saturday'])\n",
    "print(list_one)"
   ]
  },
  {
   "cell_type": "code",
   "execution_count": 40,
   "id": "dac42088",
   "metadata": {},
   "outputs": [
    {
     "name": "stdout",
     "output_type": "stream",
     "text": [
      "['sunday', 'monday', 'tuesday', 'wednesday', 'thursday', 0, 1, 2, 3, 4]\n",
      "['a', 'b', 'a', 'b']\n"
     ]
    }
   ],
   "source": [
    "# Concatenating and repeat lists : use + operator to concate two \n",
    "# lists and use * operator to repeat lists\n",
    "\n",
    "list_one = [\"sunday\",\"monday\",\"tuesday\",\"wednesday\",\"thursday\"]\n",
    "print(list_one + [0,1,2,3,4])\n",
    "\n",
    "# repeat operation\n",
    "\n",
    "print(['a','b'] * 2)"
   ]
  },
  {
   "cell_type": "code",
   "execution_count": 41,
   "id": "923f3a84",
   "metadata": {},
   "outputs": [
    {
     "name": "stdout",
     "output_type": "stream",
     "text": [
      "['sunday', 'monday', 'wednesday', 'thursday']\n",
      "['sunday', 'monday', 'wednesday', 'thursday']\n",
      "Pop result: ['sunday', 'monday', 'wednesday', 'thursday']\n"
     ]
    }
   ],
   "source": [
    "# Delete/Remove List Elements : delete one or more items or entire list using the keyword del\n",
    "del list_one[2]\n",
    "print(list_one)\n",
    "\n",
    "# remove method : remove the given item or pop() method to remove \n",
    "# an item at the given index location\n",
    "list_one = [\"sunday\",\"monday\",\"tuesday\",\"wednesday\",\"thursday\"]\n",
    "list_one.remove(\"tuesday\")\n",
    "print(list_one)\n",
    "\n",
    "#pop method\n",
    "list_one = [\"sunday\",\"monday\",\"tuesday\",\"wednesday\",\"thursday\"]\n",
    "list_one.pop(2)\n",
    "print(\"Pop result:\", list_one)"
   ]
  },
  {
   "cell_type": "code",
   "execution_count": 42,
   "id": "38bd0729",
   "metadata": {},
   "outputs": [
    {
     "name": "stdout",
     "output_type": "stream",
     "text": [
      "2\n"
     ]
    }
   ],
   "source": [
    "# index() method : Returns the index of the first matched item\n",
    "\n",
    "list_one = [\"sunday\",\"monday\",\"tuesday\",\"wednesday\",\"thursday\"]\n",
    "print(list_one.index(\"tuesday\"))"
   ]
  },
  {
   "cell_type": "code",
   "execution_count": 43,
   "id": "b8fa1e28",
   "metadata": {},
   "outputs": [
    {
     "name": "stdout",
     "output_type": "stream",
     "text": [
      "['monday', 'sunday', 'thursday', 'tuesday', 'wednesday']\n"
     ]
    }
   ],
   "source": [
    "# sort() method: Sort items in a list in ascending order\n",
    "\n",
    "list_one = [\"sunday\",\"monday\",\"tuesday\",\"wednesday\",\"thursday\"]\n",
    "list_one.sort()\n",
    "print(list_one)"
   ]
  },
  {
   "cell_type": "code",
   "execution_count": 44,
   "id": "8a7837cb",
   "metadata": {},
   "outputs": [
    {
     "name": "stdout",
     "output_type": "stream",
     "text": [
      "['thursday', 'wednesday', 'tuesday', 'monday', 'sunday']\n"
     ]
    }
   ],
   "source": [
    "# reverse() : Reverse the order of items in the list\n",
    "\n",
    "list_one = [\"sunday\",\"monday\",\"tuesday\",\"wednesday\",\"thursday\"]\n",
    "list_one.reverse()\n",
    "print(list_one)"
   ]
  },
  {
   "cell_type": "code",
   "execution_count": 45,
   "id": "bc1d03fc",
   "metadata": {},
   "outputs": [
    {
     "name": "stdout",
     "output_type": "stream",
     "text": [
      "['sunday', 'monday', 'tuesday', 'wednesday', 'thursday']\n"
     ]
    }
   ],
   "source": [
    "# copy(): Returns a shallow copy of the list\n",
    "\n",
    "list_one = [\"sunday\",\"monday\",\"tuesday\",\"wednesday\",\"thursday\"]\n",
    "list_two = list_one.copy()\n",
    "print(list_two)"
   ]
  },
  {
   "cell_type": "code",
   "execution_count": 46,
   "id": "f4ac08af",
   "metadata": {},
   "outputs": [
    {
     "name": "stdout",
     "output_type": "stream",
     "text": [
      "True\n"
     ]
    }
   ],
   "source": [
    "# Membership : check if an item exists in a list or not, using the keyword in\n",
    "\n",
    "list_one = [\"sunday\",\"monday\",\"tuesday\",\"wednesday\",\"thursday\"]\n",
    "print('tuesday' in list_one)"
   ]
  },
  {
   "cell_type": "code",
   "execution_count": 47,
   "id": "98293ff3",
   "metadata": {},
   "outputs": [
    {
     "name": "stdout",
     "output_type": "stream",
     "text": [
      "['sunday', 'monday', 'friday', 'tuesday', 'wednesday', 'thursday']\n"
     ]
    }
   ],
   "source": [
    "# insert() method : insert item at a desired location\n",
    "\n",
    "list_one = [\"sunday\",\"monday\",\"tuesday\",\"wednesday\",\"thursday\"]\n",
    "list_one.insert(2,'friday')\n",
    "print(list_one)"
   ]
  },
  {
   "cell_type": "markdown",
   "id": "85a2b204",
   "metadata": {},
   "source": [
    "### List Comprehensions"
   ]
  },
  {
   "cell_type": "markdown",
   "id": "d4829c97",
   "metadata": {},
   "source": [
    "- In python, list comprehensions are used to create a new list based on the values of an existing list in the most elegant and shortest way.\n",
    "- List comprehension consists of an expression followed by for statement inside square [] brackets.\n",
    "\n",
    ">Example :\n",
    ">\n",
    ">new_list = [x for x in list1 if “a” in x]"
   ]
  },
  {
   "cell_type": "code",
   "execution_count": 48,
   "id": "70f72e9b",
   "metadata": {},
   "outputs": [
    {
     "name": "stdout",
     "output_type": "stream",
     "text": [
      "[1, 2, 4, 8, 16, 32, 64, 128, 256, 512, 1024, 2048, 4096, 8192, 16384, 32768, 65536, 131072, 262144, 524288]\n"
     ]
    }
   ],
   "source": [
    "sqr = [2**x for x in range(20)]\n",
    "print(sqr)"
   ]
  },
  {
   "cell_type": "markdown",
   "id": "a80803ff",
   "metadata": {},
   "source": [
    "### Python Dictionaries\n",
    "\n",
    "- In python, dictionary is an unordered collection of data values in which data values are stored in key:value pairs\n",
    "- Created by placing sequence of elements within curly {} braces, separated by ‘ , ‘\n",
    "- Values can be of any datatype and can be duplicated, whereas keys are immutable and can’t be repeated\n",
    "- Can be created by the built-in function dict()\n",
    "- Dictionaries are defined as objects with the data type ‘dict\n",
    "- dict() constructor can be used when creating a new dict\n",
    "- To access values in dict, use the keys\n",
    "- Key Value format makes dictionary one of the most optimized and efficient data type in Python\n",
    "\n",
    ">Example —\n",
    ">\n",
    ">var = { ‘first_day’: ‘sunday’ , ‘second_day’: ‘monday’, ‘third_day’: ‘tuesday’}\n",
    ">\n",
    ">empty_dict = {}\n",
    ">\n",
    ">class dict(**kwarg)"
   ]
  },
  {
   "cell_type": "code",
   "execution_count": 49,
   "id": "802bbc75",
   "metadata": {},
   "outputs": [
    {
     "name": "stdout",
     "output_type": "stream",
     "text": [
      "{0: 'sunday', 1: 'monday', 2: 'tuesday', 3: 'wednesday', 4: 'thursday'}\n"
     ]
    }
   ],
   "source": [
    "#Create a Dictionary\n",
    "\n",
    "# empty dictionary\n",
    "dict_emp = {}\n",
    "\n",
    "# dict with items\n",
    "dict_one = {0:'sunday', 1: 'monday', 2: 'tuesday', 3: 'wednesday', 4: 'thursday'}\n",
    "print(dict_one)"
   ]
  },
  {
   "cell_type": "code",
   "execution_count": 50,
   "id": "c72e7e6f",
   "metadata": {},
   "outputs": [
    {
     "name": "stdout",
     "output_type": "stream",
     "text": [
      "monday\n",
      "tuesday\n"
     ]
    }
   ],
   "source": [
    "# Accessing Elements from Dictionary : Using keys or get() method\n",
    "\n",
    "dict_one = {0:'sunday', 1: 'monday', 2: 'tuesday', 3: 'wednesday', 4: 'thursday'}\n",
    "print(dict_one[1])\n",
    "\n",
    "# get() method\n",
    "print(dict_one.get(2))"
   ]
  },
  {
   "cell_type": "code",
   "execution_count": 51,
   "id": "a93c5e19",
   "metadata": {},
   "outputs": [
    {
     "name": "stdout",
     "output_type": "stream",
     "text": [
      "5\n"
     ]
    }
   ],
   "source": [
    "# Length of Dictionary\n",
    "\n",
    "dict_one = {0:'sunday', 1: 'monday', 2: 'tuesday', 3: 'wednesday', 4: 'thursday'}\n",
    "print(len(dict_one))"
   ]
  },
  {
   "cell_type": "code",
   "execution_count": 52,
   "id": "42c2465a",
   "metadata": {},
   "outputs": [
    {
     "name": "stdout",
     "output_type": "stream",
     "text": [
      "After changing the element {0: 'sunday', 1: 'monday', 2: 'friday', 3: 'wednesday', 4: 'thursday'}\n",
      "After adding the element : {0: 'sunday', 1: 'monday', 2: 'friday', 3: 'wednesday', 4: 'thursday', 5: 'saturday'}\n"
     ]
    }
   ],
   "source": [
    "# Changing and Adding Dictionary elements: add new items or change the value of existing items using an = operator\n",
    "dict_one = {0:'sunday', 1: 'monday', 2: 'tuesday', 3: 'wednesday', 4: 'thursday'}\n",
    "\n",
    "# change element\n",
    "dict_one[2] = 'friday'\n",
    "print(\"After changing the element\", dict_one)\n",
    "\n",
    "# Add element\n",
    "dict_one[5] = 'saturday'\n",
    "print(\"After adding the element :\", dict_one)"
   ]
  },
  {
   "cell_type": "code",
   "execution_count": 56,
   "id": "13b38a26",
   "metadata": {},
   "outputs": [
    {
     "name": "stdout",
     "output_type": "stream",
     "text": [
      "tuesday\n",
      "(4, 'thursday')\n"
     ]
    }
   ],
   "source": [
    "# Removing elements from Dictionary : Use the pop() or popitem() method\n",
    "dict_one = {0:'sunday', 1: 'monday', 2: 'tuesday', 3: 'wednesday', 4: 'thursday'}\n",
    "print(dict_one.pop(2))\n",
    "\n",
    "# popitem : remove an arbitrary item and return (key,value)\n",
    "print(dict_one.popitem())"
   ]
  },
  {
   "cell_type": "code",
   "execution_count": 57,
   "id": "10ef30f0",
   "metadata": {},
   "outputs": [
    {
     "name": "stdout",
     "output_type": "stream",
     "text": [
      "{}\n"
     ]
    }
   ],
   "source": [
    "# remove all items : using clear method\n",
    "dict_one.clear()\n",
    "print(dict_one)"
   ]
  },
  {
   "cell_type": "code",
   "execution_count": 62,
   "id": "82f8157a",
   "metadata": {},
   "outputs": [
    {
     "name": "stdout",
     "output_type": "stream",
     "text": [
      "{'Computer Science': None, 'Space Science': None, 'Math': None, 'English': None}\n"
     ]
    }
   ],
   "source": [
    "# fromkeys(seq[, t]): Returns a new dictionary with keys from seq and value equal to t\n",
    "\n",
    "subjects = {}.fromkeys(['Computer Science','Space Science','Math','English'])\n",
    "print(subjects)"
   ]
  },
  {
   "cell_type": "code",
   "execution_count": 66,
   "id": "8bbe7f91",
   "metadata": {},
   "outputs": [
    {
     "name": "stdout",
     "output_type": "stream",
     "text": [
      "dict_items([(0, 'sunday'), (1, 'monday'), (2, 'tuesday'), (3, 'wednesday'), (4, 'thursday')])\n"
     ]
    }
   ],
   "source": [
    "# items() method : displays a list of dictionary's (key, value) tuple pairs\n",
    "\n",
    "dict_one = {0:'sunday', 1: 'monday', 2: 'tuesday', 3: 'wednesday', 4: 'thursday'}\n",
    "print(dict_one.items())"
   ]
  },
  {
   "cell_type": "code",
   "execution_count": 67,
   "id": "0f067c49",
   "metadata": {},
   "outputs": [
    {
     "name": "stdout",
     "output_type": "stream",
     "text": [
      "dict_keys([0, 1, 2, 3, 4])\n"
     ]
    }
   ],
   "source": [
    "# keys() method : displays a list of all the keys in the dictionary\n",
    "\n",
    "dict_one = {0:'sunday', 1: 'monday', 2: 'tuesday', 3: 'wednesday', 4: 'thursday'}\n",
    "print(dict_one.keys())"
   ]
  },
  {
   "cell_type": "code",
   "execution_count": 73,
   "id": "5d4c5940",
   "metadata": {},
   "outputs": [
    {
     "name": "stdout",
     "output_type": "stream",
     "text": [
      "dict_values(['sunday', 'monday', 'tuesday', 'wednesday', 'thursday'])\n"
     ]
    }
   ],
   "source": [
    "# values() method : displays a list of all the values in the dictionary\n",
    "\n",
    "dict_one = {0:'sunday', 1: 'monday', 2: 'tuesday', 3: 'wednesday', 4: 'thursday'}\n",
    "print(dict_one.values())"
   ]
  },
  {
   "cell_type": "code",
   "execution_count": 74,
   "id": "dda656f2",
   "metadata": {},
   "outputs": [
    {
     "name": "stdout",
     "output_type": "stream",
     "text": [
      "wednesday\n",
      "If key is not present: dict_items([(0, 'sunday'), (1, 'monday'), (2, 'tuesday'), (3, 'wednesday'), (4, 'thursday'), (6, None)])\n"
     ]
    }
   ],
   "source": [
    "# setdefault() method : returns the value of a key. If not there, it inserts key with a value to the dictionary\n",
    "\n",
    "dict_one = {0:'sunday', 1: 'monday', 2: 'tuesday', 3: 'wednesday', 4: 'thursday'}\n",
    "element = dict_one.setdefault(3)\n",
    "print(element)\n",
    "\n",
    "# If key not present \n",
    "element = dict_one.setdefault(6)\n",
    "print(\"If key is not present:\", dict_one.items())"
   ]
  },
  {
   "cell_type": "code",
   "execution_count": 75,
   "id": "28d383e5",
   "metadata": {},
   "outputs": [
    {
     "name": "stdout",
     "output_type": "stream",
     "text": [
      "12\n"
     ]
    }
   ],
   "source": [
    "# Nested Dictionaries\n",
    "\n",
    "people = {\"subject\": {0:\"Maths\",1:\"English\",3:\"Science\"},\n",
    "          \"marks\": {0:42,1:36,2: 78},\n",
    "          \"Age\": {0:12,1:34,2:19}\n",
    "         }\n",
    "\n",
    "# print(people[\"marks\"][0])\n",
    "\n",
    "print(people[\"Age\"][0])"
   ]
  },
  {
   "cell_type": "code",
   "execution_count": 76,
   "id": "619bd8a8",
   "metadata": {},
   "outputs": [
    {
     "name": "stdout",
     "output_type": "stream",
     "text": [
      "[0, 1, 2, 3, 4]\n"
     ]
    }
   ],
   "source": [
    "# sorted(): Return a new sorted list of keys in the dictionary\n",
    "\n",
    "dict_one = {0:'sunday', 1: 'monday', 2: 'tuesday', 3: 'wednesday', 4: 'thursday'}\n",
    "print(sorted(dict_one))"
   ]
  },
  {
   "cell_type": "code",
   "execution_count": 77,
   "id": "be606352",
   "metadata": {},
   "outputs": [
    {
     "name": "stdout",
     "output_type": "stream",
     "text": [
      "(0, 'sunday')\n",
      "(1, 'monday')\n",
      "(2, 'tuesday')\n",
      "(3, 'wednesday')\n",
      "(4, 'thursday')\n"
     ]
    }
   ],
   "source": [
    "# Iterate through dictionay\n",
    "\n",
    "dict_one = {0:'sunday', 1: 'monday', 2: 'tuesday', 3: 'wednesday', 4: 'thursday'}\n",
    "for i in dict_one.items():\n",
    "    print(i)"
   ]
  },
  {
   "cell_type": "code",
   "execution_count": 81,
   "id": "9339bde0",
   "metadata": {},
   "outputs": [
    {
     "name": "stdout",
     "output_type": "stream",
     "text": [
      "{0: 0, 1: 1, 2: 8, 3: 27, 4: 64, 5: 125, 6: 216, 7: 343, 8: 512, 9: 729}\n"
     ]
    }
   ],
   "source": [
    "# Dictionary Comprehension\n",
    "\n",
    "cubes = {x: x*x*x for x in range(10)}\n",
    "print(cubes)"
   ]
  },
  {
   "cell_type": "code",
   "execution_count": 86,
   "id": "d5f9d29a",
   "metadata": {},
   "outputs": [
    {
     "name": "stdout",
     "output_type": "stream",
     "text": [
      "{0: 'zero', 4: 'four', 5: 'five', 2: 'two'}\n"
     ]
    }
   ],
   "source": [
    "# update() method : updates the dictionary with the elements from \n",
    "# another dictionary object or from any other key/value pairs\n",
    "\n",
    "dict1 = {0:\"zero\",4:\"four\",5:\"five\"}\n",
    "dict2 = {2:\"two\"}\n",
    "\n",
    "# updates the value of key 2\n",
    "\n",
    "dict1.update(dict2)\n",
    "print(dict1)"
   ]
  },
  {
   "cell_type": "code",
   "execution_count": 87,
   "id": "ec6d837a",
   "metadata": {},
   "outputs": [
    {
     "name": "stdout",
     "output_type": "stream",
     "text": [
      "True\n"
     ]
    }
   ],
   "source": [
    "# Membership Test : check if a key is in a dictionary or not using #the keyword in\n",
    "\n",
    "dict_one = {0:'sunday', 1: 'monday', 2: 'tuesday', 3: 'wednesday', 4: 'thursday'}\n",
    "print(0 in dict_one.keys())"
   ]
  }
 ],
 "metadata": {
  "kernelspec": {
   "display_name": "Python 3 (ipykernel)",
   "language": "python",
   "name": "python3"
  },
  "language_info": {
   "codemirror_mode": {
    "name": "ipython",
    "version": 3
   },
   "file_extension": ".py",
   "mimetype": "text/x-python",
   "name": "python",
   "nbconvert_exporter": "python",
   "pygments_lexer": "ipython3",
   "version": "3.10.4"
  }
 },
 "nbformat": 4,
 "nbformat_minor": 5
}
