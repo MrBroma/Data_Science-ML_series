{
 "cells": [
  {
   "cell_type": "markdown",
   "id": "566412a7",
   "metadata": {},
   "source": [
    "# Intro to Python"
   ]
  },
  {
   "cell_type": "markdown",
   "id": "8f222fe0",
   "metadata": {},
   "source": [
    "Python is a high-level, most widely used multi-purpose, easy to read programming language.\n",
    "\n",
    "It is —\n",
    "\n",
    "- Interpreted − Python is processed at runtime by the interpreter. i.e you do not need to compile your program before executing it\n",
    "- Interactive − You can interact with the interpreter directly to write your programs\n",
    "- Portable — It can run on wide range of hardware Platforms\n",
    "- Object-Oriented − Python supports Object-Oriented style and Procedural Paradigms\n",
    "- Used as a scripting language or can be compiled to byte-code for building large applications\n",
    "- It has simple structure, and a clearly defined syntax\n",
    "- Known as Beginner’s Language − It’s a great language for the beginner-level programmers\n",
    "- Source code is comparatively easy-to-maintain\n",
    "- Provides very high-level dynamic data types and supports dynamic type checking.\n",
    "- Has a huge collection of standard library\n",
    "\n",
    "Popular applications for Python:\n",
    "- Web Development\n",
    "- Data Science — including machine learning, data analysis, and data visualization\n",
    "- Scripting\n",
    "- Game Development\n",
    "- CAD Applications\n",
    "- Embedded Applications"
   ]
  },
  {
   "cell_type": "markdown",
   "id": "23b07c32",
   "metadata": {},
   "source": [
    "### Python Data Types"
   ]
  },
  {
   "cell_type": "code",
   "execution_count": 1,
   "id": "deb66f31",
   "metadata": {},
   "outputs": [
    {
     "name": "stdout",
     "output_type": "stream",
     "text": [
      "5\n",
      "<class 'int'>\n"
     ]
    }
   ],
   "source": [
    "# Int data type\n",
    "\n",
    "var = 5\n",
    "print(var)\n",
    "print(type(var))"
   ]
  },
  {
   "cell_type": "code",
   "execution_count": 3,
   "id": "18a0e0b3",
   "metadata": {},
   "outputs": [
    {
     "name": "stdout",
     "output_type": "stream",
     "text": [
      "3.14159\n",
      "<class 'float'>\n"
     ]
    }
   ],
   "source": [
    "# Float data type\n",
    "\n",
    "var2 = 3.14159\n",
    "print(var2)\n",
    "print(type(var2))"
   ]
  },
  {
   "cell_type": "code",
   "execution_count": null,
   "id": "e5868991",
   "metadata": {},
   "outputs": [],
   "source": []
  }
 ],
 "metadata": {
  "kernelspec": {
   "display_name": "Python 3 (ipykernel)",
   "language": "python",
   "name": "python3"
  },
  "language_info": {
   "codemirror_mode": {
    "name": "ipython",
    "version": 3
   },
   "file_extension": ".py",
   "mimetype": "text/x-python",
   "name": "python",
   "nbconvert_exporter": "python",
   "pygments_lexer": "ipython3",
   "version": "3.10.4"
  }
 },
 "nbformat": 4,
 "nbformat_minor": 5
}
