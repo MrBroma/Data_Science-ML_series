{
 "cells": [
  {
   "cell_type": "markdown",
   "id": "0f9b9cde",
   "metadata": {},
   "source": [
    "In this post we will cover end to end Python Basics ( Part 2) that you should know.\n",
    "\n",
    "### Python Lists\n",
    "- One of the most versatile data type in Python, Lists are used to store multiple items ( homogeneous or non-homogeneous) in a single variable.\n",
    "- Place the items inside the square brackets[]\n",
    "- Items can be of any data type\n",
    "- Lists are defined as objects with the data type ‘list’\n",
    "- Items are ordered, changeable, and allow duplicate values\n",
    "- list() constructor can be used when creating a new list\n",
    "- To access values in lists, use the square brackets for slicing along with the index to obtain item value available at a particular index\n",
    "- Items inside list are indexed, the first item has index [0], the second item has index [1] etc\n",
    "\n",
    ">Example —\n",
    ">\n",
    ">var = [1, 2 , ‘car’, ‘sunday’ , 3.14]\n",
    ">\n",
    ">empty_list = []\n",
    ">\n",
    ">items = list((“apple”, “banana”, “grapes”))"
   ]
  },
  {
   "cell_type": "code",
   "execution_count": 1,
   "id": "c9a499e4",
   "metadata": {},
   "outputs": [
    {
     "name": "stdout",
     "output_type": "stream",
     "text": [
      "['sunday', 'monday', 'tuesday', 'wednesday', 'thursday', 'friday']\n"
     ]
    }
   ],
   "source": [
    "# Create a list\n",
    "\n",
    "list_one = [\"sunday\", \"monday\", \"tuesday\", \"wednesday\", \"thursday\", \"friday\"]\n",
    "print(list_one)"
   ]
  },
  {
   "cell_type": "code",
   "execution_count": 2,
   "id": "8e63aba5",
   "metadata": {},
   "outputs": [
    {
     "name": "stdout",
     "output_type": "stream",
     "text": [
      "6\n"
     ]
    }
   ],
   "source": [
    "# List length\n",
    "\n",
    "print(len(list_one))"
   ]
  },
  {
   "cell_type": "code",
   "execution_count": 3,
   "id": "c09eef93",
   "metadata": {},
   "outputs": [
    {
     "name": "stdout",
     "output_type": "stream",
     "text": [
      "['abc', 67, True, 3.14, 'female']\n"
     ]
    }
   ],
   "source": [
    "# List with different data types\n",
    "\n",
    "list_two = ['abc', 67, True, 3.14, \"female\"]\n",
    "print(list_two)"
   ]
  },
  {
   "cell_type": "code",
   "execution_count": 4,
   "id": "8a17f1b5",
   "metadata": {},
   "outputs": [
    {
     "name": "stdout",
     "output_type": "stream",
     "text": [
      "<class 'list'>\n"
     ]
    }
   ],
   "source": [
    "# Type() with list\n",
    "print(type(list_two))"
   ]
  },
  {
   "cell_type": "code",
   "execution_count": 7,
   "id": "596cb3fc",
   "metadata": {},
   "outputs": [
    {
     "name": "stdout",
     "output_type": "stream",
     "text": [
      "['hello', 'World', 'Beautiful', 'Day']\n"
     ]
    }
   ],
   "source": [
    "# list() constructor to make a list\n",
    "\n",
    "list_cons = list((\"hello\", \"World\", \"Beautiful\", \"Day\"))\n",
    "print(list_cons)"
   ]
  },
  {
   "cell_type": "code",
   "execution_count": 8,
   "id": "d93710c6",
   "metadata": {},
   "outputs": [
    {
     "name": "stdout",
     "output_type": "stream",
     "text": [
      "['hello', [8, 4, 6], ['World']]\n"
     ]
    }
   ],
   "source": [
    "# Nested list\n",
    "\n",
    "list_nest = [\"hello\", [8, 4, 6], ['World']]\n",
    "print(list_nest)"
   ]
  },
  {
   "cell_type": "code",
   "execution_count": 9,
   "id": "46e863b1",
   "metadata": {},
   "outputs": [
    {
     "name": "stdout",
     "output_type": "stream",
     "text": [
      "['monday', 'tuesday', 'wednesday']\n"
     ]
    }
   ],
   "source": [
    "# slice lists in Python: Use the slicing operator --> : (colon)\n",
    "\n",
    "list_one = [\"sunday\",\"monday\",\"tuesday\",\"wednesday\",\"thursday\"]\n",
    "print(list_one[1:4])"
   ]
  },
  {
   "cell_type": "code",
   "execution_count": 10,
   "id": "51913c1e",
   "metadata": {},
   "outputs": [
    {
     "name": "stdout",
     "output_type": "stream",
     "text": [
      "['sunday', 'monday', 'tuesday', 'friday', 'thursday']\n"
     ]
    }
   ],
   "source": [
    "# Add/Change list elements: use the assignement operator = to change an item\n",
    "\n",
    "list_one = [\"sunday\",\"monday\",\"tuesday\",\"wednesday\",\"thursday\"]\n",
    "list_one[3] = \"friday\"\n",
    "print(list_one)"
   ]
  },
  {
   "cell_type": "code",
   "execution_count": 14,
   "id": "a07621db",
   "metadata": {},
   "outputs": [
    {
     "name": "stdout",
     "output_type": "stream",
     "text": [
      "['sunday', 'monday', 'tuesday', 'wednesday', 'thursday', 'friday']\n",
      "['sunday', 'monday', 'tuesday', 'wednesday', 'thursday', 'friday', 'saturday']\n"
     ]
    }
   ],
   "source": [
    "# Appending and Extending lists in Python : Use the append() or extend() method\n",
    "\n",
    "list_one = [\"sunday\",\"monday\",\"tuesday\",\"wednesday\",\"thursday\"]\n",
    "list_one.append('friday')\n",
    "print(list_one)\n",
    "\n",
    "# extend\n",
    "\n",
    "list_one.extend(['saturday'])\n",
    "print(list_one)"
   ]
  },
  {
   "cell_type": "code",
   "execution_count": 19,
   "id": "430fb1cb",
   "metadata": {},
   "outputs": [
    {
     "name": "stdout",
     "output_type": "stream",
     "text": [
      "['sunday', 'monday', 'tuesday', 'wednesday', 'thursday', 0, 1, 2, 3, 4]\n",
      "['a', 'b', 'a', 'b']\n"
     ]
    }
   ],
   "source": [
    "# Concatenating and repeat lists : use + operator to concate two \n",
    "# lists and use * operator to repeat lists\n",
    "\n",
    "list_one = [\"sunday\",\"monday\",\"tuesday\",\"wednesday\",\"thursday\"]\n",
    "print(list_one + [0,1,2,3,4])\n",
    "\n",
    "# repeat operation\n",
    "\n",
    "print(['a','b'] * 2)"
   ]
  },
  {
   "cell_type": "code",
   "execution_count": null,
   "id": "b9d2690e",
   "metadata": {},
   "outputs": [],
   "source": [
    "# Delete/Remove List Elements : delete one or more items or entire list using the keyword del\n",
    "del list_one[2]\n",
    "print(list_one)\n",
    "\n",
    "# remove method : remove the given item or pop() method to remove \n",
    "# an item at the given index location\n",
    "list_one = [\"sunday\",\"monday\",\"tuesday\",\"wednesday\",\"thursday\"]\n",
    "list_one.remove(\"tuesday\")\n",
    "print(list_one)\n",
    "\n",
    "#pop method\n",
    "list_one = [\"sunday\",\"monday\",\"tuesday\",\"wednesday\",\"thursday\"]\n",
    "list_one.pop(2)\n",
    "print(\"Pop result:\", list_one)"
   ]
  },
  {
   "cell_type": "code",
   "execution_count": null,
   "id": "88da0424",
   "metadata": {},
   "outputs": [],
   "source": []
  }
 ],
 "metadata": {
  "kernelspec": {
   "display_name": "Python 3 (ipykernel)",
   "language": "python",
   "name": "python3"
  },
  "language_info": {
   "codemirror_mode": {
    "name": "ipython",
    "version": 3
   },
   "file_extension": ".py",
   "mimetype": "text/x-python",
   "name": "python",
   "nbconvert_exporter": "python",
   "pygments_lexer": "ipython3",
   "version": "3.10.4"
  }
 },
 "nbformat": 4,
 "nbformat_minor": 5
}
