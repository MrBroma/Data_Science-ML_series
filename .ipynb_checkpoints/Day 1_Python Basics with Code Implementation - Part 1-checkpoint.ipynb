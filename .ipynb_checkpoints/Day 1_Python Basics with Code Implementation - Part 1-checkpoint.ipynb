{
 "cells": [
  {
   "cell_type": "markdown",
   "id": "b9760643",
   "metadata": {},
   "source": [
    "# Intro to Python"
   ]
  },
  {
   "cell_type": "markdown",
   "id": "a5b322cb",
   "metadata": {},
   "source": [
    "Python is a high-level, most widely used multi-purpose, easy to read programming language.\n",
    "\n",
    "It is —\n",
    "\n",
    "- Interpreted − Python is processed at runtime by the interpreter. i.e you do not need to compile your program before executing it\n",
    "- Interactive − You can interact with the interpreter directly to write your programs\n",
    "- Portable — It can run on wide range of hardware Platforms\n",
    "- Object-Oriented − Python supports Object-Oriented style and Procedural Paradigms\n",
    "- Used as a scripting language or can be compiled to byte-code for building large applications\n",
    "- It has simple structure, and a clearly defined syntax\n",
    "- Known as Beginner’s Language − It’s a great language for the beginner-level programmers\n",
    "- Source code is comparatively easy-to-maintain\n",
    "- Provides very high-level dynamic data types and supports dynamic type checking.\n",
    "- Has a huge collection of standard library\n",
    "\n",
    "Popular applications for Python:\n",
    "- Web Development\n",
    "- Data Science — including machine learning, data analysis, and data visualization\n",
    "- Scripting\n",
    "- Game Development\n",
    "- CAD Applications\n",
    "- Embedded Applications"
   ]
  },
  {
   "cell_type": "markdown",
   "id": "5f73bb5c",
   "metadata": {},
   "source": [
    "### Python Data Types"
   ]
  },
  {
   "cell_type": "code",
   "execution_count": 1,
   "id": "b6823d39",
   "metadata": {},
   "outputs": [
    {
     "name": "stdout",
     "output_type": "stream",
     "text": [
      "5\n",
      "<class 'int'>\n"
     ]
    }
   ],
   "source": [
    "# Int data type\n",
    "\n",
    "var = 5\n",
    "print(var)\n",
    "print(type(var))"
   ]
  },
  {
   "cell_type": "code",
   "execution_count": 3,
   "id": "01fc1b3b",
   "metadata": {},
   "outputs": [
    {
     "name": "stdout",
     "output_type": "stream",
     "text": [
      "3.14159\n",
      "<class 'float'>\n"
     ]
    }
   ],
   "source": [
    "# Float data type\n",
    "\n",
    "var2 = 3.14159\n",
    "print(var2)\n",
    "print(type(var2))"
   ]
  },
  {
   "cell_type": "code",
   "execution_count": 4,
   "id": "bfd200f2",
   "metadata": {},
   "outputs": [
    {
     "name": "stdout",
     "output_type": "stream",
     "text": [
      "2j\n",
      "<class 'complex'>\n"
     ]
    }
   ],
   "source": [
    "# Complex numbers data type\n",
    "\n",
    "x = 2j\n",
    "print(x)\n",
    "print(type(x))"
   ]
  },
  {
   "cell_type": "code",
   "execution_count": 5,
   "id": "5d133ca6",
   "metadata": {},
   "outputs": [
    {
     "name": "stdout",
     "output_type": "stream",
     "text": [
      "Hello world!\n",
      "<class 'str'>\n"
     ]
    }
   ],
   "source": [
    "# String data type\n",
    "\n",
    "str_one = 'Hello world!'\n",
    "print(str_one)\n",
    "print(type(str_one))"
   ]
  },
  {
   "cell_type": "code",
   "execution_count": 6,
   "id": "44bc482b",
   "metadata": {},
   "outputs": [
    {
     "name": "stdout",
     "output_type": "stream",
     "text": [
      "['car', 'bike']\n",
      "<class 'list'>\n"
     ]
    }
   ],
   "source": [
    "# List data type\n",
    "\n",
    "list1 = ['car', 'bike']\n",
    "print(list1)\n",
    "print(type(list1))"
   ]
  },
  {
   "cell_type": "code",
   "execution_count": 7,
   "id": "7595fbb3",
   "metadata": {},
   "outputs": [
    {
     "name": "stdout",
     "output_type": "stream",
     "text": [
      "('car', 'bike', 'bus')\n",
      "<class 'tuple'>\n"
     ]
    }
   ],
   "source": [
    "# Tuple data type\n",
    "\n",
    "tup = ('car', 'bike', 'bus')\n",
    "print(tup)\n",
    "print(type(tup))"
   ]
  },
  {
   "cell_type": "code",
   "execution_count": 2,
   "id": "71d837b8",
   "metadata": {},
   "outputs": [
    {
     "name": "stdout",
     "output_type": "stream",
     "text": [
      "{'Name': 'Steve', 'Location': 'New-York'}\n",
      "<class 'dict'>\n"
     ]
    }
   ],
   "source": [
    "# Dictionary data type\n",
    "\n",
    "dict_one = {\"Name\": \"Steve\", \"Location\": \"New-York\"}\n",
    "print(dict_one)\n",
    "print(type(dict_one))"
   ]
  },
  {
   "cell_type": "code",
   "execution_count": 4,
   "id": "3038dbd5",
   "metadata": {},
   "outputs": [
    {
     "name": "stdout",
     "output_type": "stream",
     "text": [
      "{'world', 'Hello'}\n",
      "<class 'set'>\n"
     ]
    }
   ],
   "source": [
    "# Set data type\n",
    "\n",
    "set_one = set({\"Hello\",\"world\",\"Hello\"})\n",
    "print(set_one)\n",
    "print(type(set_one))"
   ]
  },
  {
   "cell_type": "code",
   "execution_count": 7,
   "id": "e5eb51b0",
   "metadata": {},
   "outputs": [
    {
     "name": "stdout",
     "output_type": "stream",
     "text": [
      "frozenset({'Hello', 'World'})\n",
      "<class 'frozenset'>\n"
     ]
    }
   ],
   "source": [
    "# Frozen set\n",
    "\n",
    "f_one = frozenset({\"Hello\",\"World\",\"Hello\"})\n",
    "print(f_one)\n",
    "print(type(f_one))"
   ]
  },
  {
   "cell_type": "code",
   "execution_count": 8,
   "id": "6392fea3",
   "metadata": {},
   "outputs": [
    {
     "name": "stdout",
     "output_type": "stream",
     "text": [
      "True\n",
      "<class 'bool'>\n"
     ]
    }
   ],
   "source": [
    "# Boolean Data Type\n",
    "\n",
    "b = True\n",
    "print(b)\n",
    "print(type(b))"
   ]
  },
  {
   "cell_type": "code",
   "execution_count": 9,
   "id": "0536840e",
   "metadata": {},
   "outputs": [
    {
     "name": "stdout",
     "output_type": "stream",
     "text": [
      "<class 'bytes'>\n",
      "b'World'\n"
     ]
    }
   ],
   "source": [
    "# Byte Data Type\n",
    "\n",
    "byte_one = b\"World\"\n",
    "print(type(byte_one))\n",
    "print(byte_one)"
   ]
  },
  {
   "cell_type": "markdown",
   "id": "66ad6e0e",
   "metadata": {},
   "source": [
    "### Python Strings"
   ]
  },
  {
   "cell_type": "markdown",
   "id": "596796f9",
   "metadata": {},
   "source": [
    "Strings are arrays of bytes representing unicode characters.\n",
    "\n",
    "- Strings in python are surrounded by either single quotation marks, or double quotation marks.\n",
    "\n",
    "> ‘today’ is the same as “today”.\n",
    ">\n",
    "> Example :\n",
    ">\n",
    "> var1 = ‘Hello’\n",
    ">\n",
    "> var2 = “Complete Python Course”\n",
    "\n",
    "- You can assign a multiline string to a variable by using three quotes."
   ]
  },
  {
   "cell_type": "code",
   "execution_count": 10,
   "id": "c5a95024",
   "metadata": {},
   "outputs": [],
   "source": [
    "#String\n",
    "str1 = \"Welcome to complete Python Course\"\n",
    "str2 = 'Welcome to the complete Python Course'\n",
    "str3 = \"\"\"This is a\n",
    "       multiline \n",
    "       String\"\"\""
   ]
  },
  {
   "cell_type": "markdown",
   "id": "e696ab01",
   "metadata": {},
   "source": [
    "#### Indexing and Slicing with Strings —"
   ]
  },
  {
   "cell_type": "markdown",
   "id": "209ab6fd",
   "metadata": {},
   "source": [
    "- In python, Indexing is used to access individual characters of a string\n",
    "- Square brackets are used to access the character of the string using Index\n",
    "- Index starts with 0\n",
    "- -1 refers to the last character, -2 refers to the second last character and so on\n",
    "\n",
    "> Example:\n",
    ">\n",
    "> var[3]\n",
    ">\n",
    "> var[-2]\n",
    "\n",
    "- In python, Slicing is used to access a range of characters in the string\n",
    "- Slicing operator colon (:) is used\n",
    "\n",
    ">Example:\n",
    ">\n",
    "> var[1:4]\n",
    ">\n",
    "> var[:4]"
   ]
  },
  {
   "cell_type": "code",
   "execution_count": 12,
   "id": "d5860436",
   "metadata": {},
   "outputs": [
    {
     "name": "stdout",
     "output_type": "stream",
     "text": [
      "a\n"
     ]
    }
   ],
   "source": [
    "# Indexing : String starts with 0th Index\n",
    "\n",
    "s = \"Captain America\"\n",
    "print(s[4])"
   ]
  },
  {
   "cell_type": "code",
   "execution_count": 13,
   "id": "9d1ec51f",
   "metadata": {},
   "outputs": [
    {
     "name": "stdout",
     "output_type": "stream",
     "text": [
      "at\n"
     ]
    }
   ],
   "source": [
    "# Slicing : slice(start, stop, step), it returns a sliced object containing elements in the given range\n",
    "\n",
    "s = \"Captain America\"\n",
    "print(s[1:5:2])"
   ]
  },
  {
   "cell_type": "code",
   "execution_count": 14,
   "id": "238a3950",
   "metadata": {},
   "outputs": [
    {
     "name": "stdout",
     "output_type": "stream",
     "text": [
      "aciremA niatpaC\n"
     ]
    }
   ],
   "source": [
    "# Reverse\n",
    "\n",
    "print(s[::-1])"
   ]
  },
  {
   "cell_type": "markdown",
   "id": "706d57d8",
   "metadata": {},
   "source": [
    "### String Methods"
   ]
  },
  {
   "cell_type": "markdown",
   "id": "b9605ac2",
   "metadata": {},
   "source": [
    "    • istitle() : Checks for Titlecased String\n",
    "    • isupper() : returns if all characters are uppercase characters\n",
    "    • join() : Returns a Concatenated String\n",
    "    • ljust() : returns left-justified string of given width\n",
    "    • lower() : returns lowercased string\n",
    "    • lstrip() : Removes Leading Characters\n",
    "    • maketrans() : returns a translation table\n",
    "    • replace() : Replaces Substring Inside\n",
    "    • rfind() : Returns the Highest Index of Substring\n",
    "    • rjust() : returns right-justified string of given width\n",
    "    • rstrip() : Removes Trailing Characters\n",
    "    • split() : Splits String from Left\n",
    "    • splitlines() : Splits String at Line Boundaries\n",
    "    • startswith() : Checks if String Starts with the Specified String\n",
    "    • strip() : Removes Both Leading and Trailing Characters\n",
    "    • swapcase() : swap uppercase characters to lowercase; vice versa\n",
    "    • title() : Returns a Title Cased String\n",
    "    • translate() : returns mapped charactered string\n",
    "    • upper() : returns uppercased string\n",
    "    • zfill() : Returns a Copy of The String Padded With Zeros\n",
    "    • capitalize() : Converts first character to Capital Letter\n",
    "    • casefold() : converts to case folded strings\n",
    "    • center(): Pads string with specified character\n",
    "    • count() : returns occurrences of substring in string\n",
    "    • encode() : returns encoded string of given string\n",
    "    • endswith(): Checks if String Ends with the Specified Suffix\n",
    "    • expandtabs() : Replaces Tab character With Spaces\n",
    "    • find(): Returns the index of first occurrence of substring\n",
    "    • format(): formats string into nicer output\n",
    "    • format_map() : Formats the String Using Dictionary\n",
    "    • index(): Returns Index of Substring\n",
    "    • isalnum(): Checks Alphanumeric Character\n",
    "    • isalpha() : Checks if All Characters are Alphabets\n",
    "    • isdecimal() : Checks Decimal Characters\n",
    "    • isdigit() : Checks Digit Characters\n",
    "    • isidentifier() : Checks for Valid Identifier\n",
    "    • islower() : Checks if all Alphabets in a String are Lowercase\n",
    "    • isnumeric() : Checks Numeric Characters\n",
    "    • isprintable() : Checks Printable Character\n",
    "    • isspace() : Checks Whitespace Characters"
   ]
  },
  {
   "cell_type": "code",
   "execution_count": 16,
   "id": "52ed83de",
   "metadata": {},
   "outputs": [
    {
     "name": "stdout",
     "output_type": "stream",
     "text": [
      "Complete python course\n"
     ]
    }
   ],
   "source": [
    "# capitalize() method : Returns a copy of the string with its first\n",
    "# character capitalized and the rest lowercased\n",
    "a = \"complete python course\" \n",
    "print(a.capitalize())"
   ]
  },
  {
   "cell_type": "code",
   "execution_count": 17,
   "id": "d7e220b0",
   "metadata": {},
   "outputs": [
    {
     "name": "stdout",
     "output_type": "stream",
     "text": [
      "**Python**\n"
     ]
    }
   ],
   "source": [
    "# centre(width[, fillchar])   : Returns the string centered in a\n",
    "# string of length width\n",
    "a = \"Python\" \n",
    "b = a.center(10, \"*\")\n",
    "print(b)"
   ]
  },
  {
   "cell_type": "code",
   "execution_count": 18,
   "id": "3278e069",
   "metadata": {},
   "outputs": [
    {
     "name": "stdout",
     "output_type": "stream",
     "text": [
      "python\n"
     ]
    }
   ],
   "source": [
    "# casefold() method : Returns a casefolded copy of the string. \n",
    "# Casefolded strings may be used for caseless matching\n",
    "a = \"PYTHON\"\n",
    "print(a.casefold())"
   ]
  },
  {
   "cell_type": "code",
   "execution_count": 19,
   "id": "62cc204b",
   "metadata": {},
   "outputs": [
    {
     "name": "stdout",
     "output_type": "stream",
     "text": [
      "2\n",
      "5\n",
      "1\n"
     ]
    }
   ],
   "source": [
    "# count(sub[, start[, end]]) : Returns the number of non-overlapping \n",
    "# occurrences of substring (sub) in the range [start, end]\n",
    "a = \"Welcome to complete Python Course\"\n",
    "print(a.count(\"c\"))\n",
    "print(a.count(\"o\"))\n",
    "print(a.count(\"Python\"))"
   ]
  },
  {
   "cell_type": "code",
   "execution_count": 20,
   "id": "f1624181",
   "metadata": {},
   "outputs": [
    {
     "name": "stdout",
     "output_type": "stream",
     "text": [
      "False\n",
      "True\n"
     ]
    }
   ],
   "source": [
    "# endswith(suffix[, start[, end]]) : Returns True if the string ends \n",
    "# with the specified suffix, otherwise it returns False\n",
    "a = \"Watermelon\"\n",
    "print(a.endswith(\"s\"))\n",
    "print(a.endswith(\"melon\"))"
   ]
  },
  {
   "cell_type": "code",
   "execution_count": 21,
   "id": "e1dc8eef",
   "metadata": {},
   "outputs": [
    {
     "name": "stdout",
     "output_type": "stream",
     "text": [
      "3\n",
      "2\n"
     ]
    }
   ],
   "source": [
    "# find(sub[, start[, end]]) : Returns the lowest index in the string \n",
    "# where substring sub is found within the slice s[start:end]\n",
    "a = \"Exercise\"\n",
    "print(a.find(\"r\"))\n",
    "print(a.find(\"e\"))"
   ]
  },
  {
   "cell_type": "code",
   "execution_count": 24,
   "id": "97e8ecce",
   "metadata": {},
   "outputs": [
    {
     "name": "stdout",
     "output_type": "stream",
     "text": [
      "4\n",
      "0\n",
      "5\n"
     ]
    }
   ],
   "source": [
    "# index(sub[, start[, end]]) : Similar to find function, except that\n",
    "# it raises a ValueError when the substring is not found\n",
    "a = \"Continent\"\n",
    "print(a.index(\"i\"))\n",
    "print(a.index(\"C\"))\n",
    "print(a.index(\"nent\"))"
   ]
  },
  {
   "cell_type": "code",
   "execution_count": 25,
   "id": "5c9cff9d",
   "metadata": {},
   "outputs": [
    {
     "name": "stdout",
     "output_type": "stream",
     "text": [
      "True\n",
      "False\n"
     ]
    }
   ],
   "source": [
    "# isalnum() : Returns True if all characters in the string are \n",
    "# alphanumeric, else returns False\n",
    "c = \"456\"\n",
    "d = \"$*%!!**\"\n",
    "print(c.isalnum())\n",
    "print(d.isalnum())"
   ]
  },
  {
   "cell_type": "code",
   "execution_count": 26,
   "id": "32e99e0e",
   "metadata": {},
   "outputs": [
    {
     "name": "stdout",
     "output_type": "stream",
     "text": [
      "False\n",
      "True\n"
     ]
    }
   ],
   "source": [
    "# isalpha() : Returns True if all characters in the string are \n",
    "# alphabetic, else returns False\n",
    "c = \"456\"### String Methods\n",
    "d = \"Python\"\n",
    "print(c.isalpha())\n",
    "print(d.isalpha())"
   ]
  },
  {
   "cell_type": "code",
   "execution_count": 27,
   "id": "a0ac2767",
   "metadata": {},
   "outputs": [
    {
     "name": "stdout",
     "output_type": "stream",
     "text": [
      "False\n",
      "True\n"
     ]
    }
   ],
   "source": [
    "# isdecimal() : Returns True if all characters in the string are \n",
    "# decimal characters, else returns False\n",
    "c = u\"\\u00B10\"\n",
    "x = \"10\"\n",
    "print(c.isdecimal())\n",
    "print(x.isdecimal())"
   ]
  },
  {
   "cell_type": "code",
   "execution_count": 28,
   "id": "54f52032",
   "metadata": {},
   "outputs": [
    {
     "name": "stdout",
     "output_type": "stream",
     "text": [
      "True\n",
      "False\n"
     ]
    }
   ],
   "source": [
    "# isdigit() : Returns True if all characters in the string are \n",
    "# digits, else returns False\n",
    "c = \"4567\"\n",
    "d = \"1.65\"\n",
    "print(c.isdigit())\n",
    "print(d.isdigit())"
   ]
  },
  {
   "cell_type": "code",
   "execution_count": 29,
   "id": "4d6f5048",
   "metadata": {},
   "outputs": [
    {
     "name": "stdout",
     "output_type": "stream",
     "text": [
      "C,D\n"
     ]
    }
   ],
   "source": [
    "# join(iterable) : Returns a string which is the concatenation of \n",
    "# the strings in iterable. \n",
    "# A TypeError will be raised if there are any non-string values in \n",
    "# iterable\n",
    "a = \",\"\n",
    "print(a.join(\"CD\"))"
   ]
  },
  {
   "cell_type": "code",
   "execution_count": 30,
   "id": "a2ee95df",
   "metadata": {},
   "outputs": [
    {
     "name": "stdout",
     "output_type": "stream",
     "text": [
      "('Complete.Python', '-', 'course')\n",
      "('Complete', '.', 'Python-course')\n"
     ]
    }
   ],
   "source": [
    "# partition(sep) : Splits the string at the first occurrence of sep, \n",
    "# and returns a 3-tuple containing the part before the separator, the \n",
    "# separator itself, and the part after the separator\n",
    "a = \"Complete.Python-course\"\n",
    "print(a.partition(\"-\"))\n",
    "print(a.partition(\".\"))"
   ]
  },
  {
   "cell_type": "code",
   "execution_count": 31,
   "id": "3f28ff01",
   "metadata": {},
   "outputs": [
    {
     "name": "stdout",
     "output_type": "stream",
     "text": [
      "['Welcome', '', 'Friends', '']\n"
     ]
    }
   ],
   "source": [
    "# split(sep=None, maxsplit=-1) : Returns a list of the words in the \n",
    "# string,using sep as the delimiter strip. If maxsplit is given,\n",
    "# at most maxsplit splits are done. If maxsplit is not specified or -1, \n",
    "# then there is no limit on the number of splits.\n",
    "a = \"Welcome,,Friends,\"\n",
    "print(a.split(\",\"))"
   ]
  },
  {
   "cell_type": "code",
   "execution_count": 32,
   "id": "dcd7c909",
   "metadata": {},
   "outputs": [
    {
     "name": "stdout",
     "output_type": "stream",
     "text": [
      "Python\n"
     ]
    }
   ],
   "source": [
    "# strip([chars]) : Returns a copy of the string with leading and \n",
    "# trailing characters removed. The chars argument is a string \n",
    "# specifying the set of characters to be removed\n",
    "a = \"***Python***\"\n",
    "print(a.strip(\"*\"))"
   ]
  },
  {
   "cell_type": "code",
   "execution_count": 33,
   "id": "7394d7f6",
   "metadata": {},
   "outputs": [
    {
     "name": "stdout",
     "output_type": "stream",
     "text": [
      "hI hOMIES\n"
     ]
    }
   ],
   "source": [
    "# swapcase() : Returns a copy of the string with uppercase \n",
    "# characters converted to lowercase and vice versa\n",
    "a = \"Hi Homies\"\n",
    "print(a.swapcase())"
   ]
  },
  {
   "cell_type": "code",
   "execution_count": 37,
   "id": "1e973b2b",
   "metadata": {},
   "outputs": [
    {
     "name": "stdout",
     "output_type": "stream",
     "text": [
      "-00124\n"
     ]
    }
   ],
   "source": [
    "# zfill(width) : Returns a copy of the string left filled with ASCII \n",
    "# 0 digits to make a string of length width\n",
    "a = \"-124\"\n",
    "print(a.zfill(6))"
   ]
  },
  {
   "cell_type": "code",
   "execution_count": 45,
   "id": "26949467",
   "metadata": {},
   "outputs": [
    {
     "name": "stdout",
     "output_type": "stream",
     "text": [
      "Python-----\n"
     ]
    }
   ],
   "source": [
    "# lstrip([chars]) : Return a copy of the string with leading \n",
    "# characters removed. The chars argument is a string specifying the \n",
    "# set of characters to be removed.\n",
    "a = \"*****Python-----\"\n",
    "print(a.lstrip(\"*\"))"
   ]
  },
  {
   "cell_type": "code",
   "execution_count": 46,
   "id": "8c734c14",
   "metadata": {},
   "outputs": [
    {
     "name": "stdout",
     "output_type": "stream",
     "text": [
      "7\n",
      "3\n"
     ]
    }
   ],
   "source": [
    "# rindex(sub[, start[, end]]) : Just like rfind() but raises \n",
    "# ValueError when the substring sub is not found\n",
    "a = \"Hi World\"\n",
    "print(a.rindex(\"d\"))\n",
    "print(a.rindex(\"W\"))"
   ]
  },
  {
   "cell_type": "markdown",
   "id": "1d96fcf7",
   "metadata": {},
   "source": [
    "### Python F Strings"
   ]
  },
  {
   "cell_type": "markdown",
   "id": "f9ee48af",
   "metadata": {},
   "source": [
    "- Python F-String are used to embed python expressions inside string literals for formatting, using minimal syntax.\n",
    "- It’s an expression that’s evaluated at the run time.\n",
    "- They have the f prefix and use {} brackets to evaluate values.\n",
    "- f-strings are faster than %-formatting and str.format()\n",
    "Syntax —\n",
    "\n",
    "f “string_variable”\n",
    "- In order to format and output an expression in the formatted way, you should use curly braces {}"
   ]
  },
  {
   "cell_type": "code",
   "execution_count": 47,
   "id": "54493022",
   "metadata": {},
   "outputs": [
    {
     "name": "stdout",
     "output_type": "stream",
     "text": [
      "Max of 12 and 25 is 25\n"
     ]
    }
   ],
   "source": [
    "def max_no(x,y):\n",
    "    return x if x>y else y\n",
    "f_no = 12\n",
    "s_no = 25\n",
    "print(f'Max of {f_no} and {s_no} is {max(f_no,s_no)}')\n"
   ]
  },
  {
   "cell_type": "code",
   "execution_count": 48,
   "id": "ca9837b5",
   "metadata": {},
   "outputs": [
    {
     "name": "stdout",
     "output_type": "stream",
     "text": [
      "result:  12\n"
     ]
    }
   ],
   "source": [
    "from decimal import Decimal\n",
    "width = 4\n",
    "round_point = 2\n",
    "value = Decimal('12.39065')\n",
    "print(f'result:{value:{width}.{round_point}}')"
   ]
  },
  {
   "cell_type": "markdown",
   "id": "9c2b40c5",
   "metadata": {},
   "source": [
    "- Operators in Python\n",
    ">In python, operators are used to perform operations on variables and values\n",
    ">\n",
    ">Arithmetic operators : +, — , *, /, //, %, **\n",
    ">\n",
    ">Logical operators : and, or, not\n",
    ">\n",
    ">Identity operators : is, is not\n",
    ">\n",
    ">Membership operators : in , not in\n",
    ">\n",
    ">Bitwise operators : &, |, ^,~, << , >>\n",
    ">\n",
    ">Assignment operators : =, +=, -=, *=,/= , %=, //=, **=, &=, |=, ^=, >>=, <<=\n",
    ">\n",
    ">Comparison operators : ==, !=, > , <, >=, <=\n",
    "\n",
    "- Ternary operators are operators that evaluate things based on a condition being true or false\n",
    "\n",
    "Syntax : [true] if [expression] else [false]\n",
    "\n",
    "- Operator overloading can be implemented in Python\n",
    "\n",
    ">Example —\n",
    ">\n",
    ">a & b\n",
    ">\n",
    ">a >> 2\n",
    ">\n",
    ">a is not b\n",
    ">\n",
    ">‘b’ in list1\n"
   ]
  },
  {
   "cell_type": "code",
   "execution_count": 49,
   "id": "4c09402b",
   "metadata": {},
   "outputs": [
    {
     "name": "stdout",
     "output_type": "stream",
     "text": [
      "Addition: 14\n",
      "Subtraction: 6\n",
      "Multiply:  40\n",
      "Division: 2.5\n",
      "Modulus: 2\n",
      "Floor Division: 2\n",
      "Exponent: 10000\n"
     ]
    }
   ],
   "source": [
    "# Arithmatic Operators\n",
    "x = 10\n",
    "y = 4\n",
    "# Addition\n",
    "print(\"Addition:\", x+y)\n",
    "# Subtraction\n",
    "print(\"Subtraction:\", x-y)\n",
    "# Multiply\n",
    "print(\"Multiply: \", x*y)\n",
    "# Division\n",
    "print(\"Division:\", x/y)\n",
    "# Modulus\n",
    "print(\"Modulus:\", x%y)\n",
    "# Floor Division\n",
    "print(\"Floor Division:\", x//y)\n",
    "# Exponent\n",
    "print(\"Exponent:\", x**y)"
   ]
  },
  {
   "cell_type": "code",
   "execution_count": 50,
   "id": "3479f866",
   "metadata": {},
   "outputs": [
    {
     "name": "stdout",
     "output_type": "stream",
     "text": [
      "Greater than: True\n",
      "Greater than: False\n",
      "Greater than equal to: True\n",
      "Less than: False\n",
      "Not equal to: True\n",
      "Equal to: False\n"
     ]
    }
   ],
   "source": [
    "# Comparison Operator  : Result is either True or False\n",
    "x = 5\n",
    "y = 3\n",
    "# Greater than\n",
    "print(\"Greater than:\",x>y)\n",
    "# Less than\n",
    "print(\"Greater than:\",x<y)\n",
    "# Greater than equal to \n",
    "print(\"Greater than equal to:\",x>=y)\n",
    "# less than equal to\n",
    "print(\"Less than:\",x<=y)\n",
    "# Not equal to \n",
    "print(\"Not equal to:\",x!=y)\n",
    "# Equal to\n",
    "print(\"Equal to:\",x==y)"
   ]
  },
  {
   "cell_type": "code",
   "execution_count": 51,
   "id": "223f057a",
   "metadata": {},
   "outputs": [
    {
     "name": "stdout",
     "output_type": "stream",
     "text": [
      "And result: False\n",
      "Or result: True\n",
      "Not result: True\n"
     ]
    }
   ],
   "source": [
    "# Logical Operators : and, or, not [Result is either True or False]\n",
    "x = True\n",
    "y = False\n",
    "# And\n",
    "print(\"And result:\",(x and y))\n",
    "# Or\n",
    "print(\"Or result:\",(x or y))\n",
    "# Not\n",
    "print(\"Not result:\",(not y))"
   ]
  },
  {
   "cell_type": "code",
   "execution_count": 52,
   "id": "55989c9a",
   "metadata": {},
   "outputs": [
    {
     "name": "stdout",
     "output_type": "stream",
     "text": [
      "And result: 992\n",
      "Or result: 1019\n",
      "Not result: -1011\n",
      "XOR result: 27\n",
      "Bitwise right shift result: 250\n",
      "Bitwise left shift result: 4004\n"
     ]
    }
   ],
   "source": [
    "# Bitwise operators\n",
    "x = 1001\n",
    "y = 1010\n",
    "# And\n",
    "print(\"And result:\",(x & y))\n",
    "# Or\n",
    "print(\"Or result:\",(x | y))\n",
    "# Not\n",
    "print(\"Not result:\",(~y))\n",
    "# Xor\n",
    "print(\"XOR result:\",(x^y))\n",
    "# Bitwise right shift\n",
    "print(\"Bitwise right shift result:\",(x>>2))\n",
    "# Bitwise left shift\n",
    "print(\"Bitwise left shift result:\",(x<<2))"
   ]
  },
  {
   "cell_type": "code",
   "execution_count": 53,
   "id": "e681c556",
   "metadata": {},
   "outputs": [],
   "source": [
    "# Assignment operators : used in Python to assign values to variables\n",
    "x = 5\n",
    "x += 5\n",
    "x -= 2\n",
    "x *= 2\n",
    "x **= 2"
   ]
  },
  {
   "cell_type": "code",
   "execution_count": 54,
   "id": "206e9234",
   "metadata": {},
   "outputs": [
    {
     "name": "stdout",
     "output_type": "stream",
     "text": [
      "Is operator result: True\n",
      "Not is operator result: True\n"
     ]
    }
   ],
   "source": [
    "# Identity Operator : is and is not are the identity operators in Python\n",
    "x = 5\n",
    "y = 5\n",
    "z = 'a'\n",
    "print(\"Is operator result:\", (x is y))\n",
    "print(\"Not is operator result:\", (y is not z))"
   ]
  },
  {
   "cell_type": "code",
   "execution_count": 55,
   "id": "b900d54f",
   "metadata": {},
   "outputs": [
    {
     "name": "stdout",
     "output_type": "stream",
     "text": [
      "True\n",
      "False\n"
     ]
    }
   ],
   "source": [
    "# Membership operator : in operator\n",
    "x = 'Python Course'\n",
    "print('y' in x)\n",
    "print('a' in x)"
   ]
  },
  {
   "cell_type": "markdown",
   "id": "3cea44d4",
   "metadata": {},
   "source": [
    "### Chaining Comparison Operators with Logical Operators"
   ]
  },
  {
   "cell_type": "markdown",
   "id": "73ce9bc5",
   "metadata": {},
   "source": [
    "- In python, in order to check more than two conditions, we implement chaining where two or more operators are chained together as shown in the example below\n",
    "\n",
    "if x < y < z :\n",
    "{…..}\n",
    "\n",
    "- In accordance with associativity and precedence in Python, all comparison operations have the same priority. Resultant values of Comparisons yield boolean values such as either True or False\n",
    "- When chaining the comparison operators, the sequence can be arbitrary.\n",
    "\n",
    "Example —\n",
    "\n",
    "x > y <= c is equivalent to x > y and y <= c"
   ]
  },
  {
   "cell_type": "code",
   "execution_count": 57,
   "id": "9dbffab1",
   "metadata": {},
   "outputs": [
    {
     "name": "stdout",
     "output_type": "stream",
     "text": [
      "False\n",
      "False\n"
     ]
    }
   ],
   "source": [
    "# Chaining Comparison operators with Logical operators\n",
    "a, b, c, d, e, f, g = 10, 15, 2, 1, 45, 25, 19\n",
    "e1 = a <= b < c > d < e is not f is g\n",
    "e2 = a is d < f is c\n",
    "print(e1)\n",
    "print(e2)"
   ]
  },
  {
   "cell_type": "code",
   "execution_count": null,
   "id": "306d6a9a",
   "metadata": {},
   "outputs": [],
   "source": []
  }
 ],
 "metadata": {
  "kernelspec": {
   "display_name": "Python 3 (ipykernel)",
   "language": "python",
   "name": "python3"
  },
  "language_info": {
   "codemirror_mode": {
    "name": "ipython",
    "version": 3
   },
   "file_extension": ".py",
   "mimetype": "text/x-python",
   "name": "python",
   "nbconvert_exporter": "python",
   "pygments_lexer": "ipython3",
   "version": "3.10.4"
  }
 },
 "nbformat": 4,
 "nbformat_minor": 5
}
